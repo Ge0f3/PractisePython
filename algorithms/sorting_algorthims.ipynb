{
 "cells": [
  {
   "cell_type": "markdown",
   "metadata": {},
   "source": [
    "# Sorting Algorithms"
   ]
  },
  {
   "cell_type": "markdown",
   "metadata": {},
   "source": [
    "## Bubble sort "
   ]
  },
  {
   "cell_type": "code",
   "execution_count": 29,
   "metadata": {},
   "outputs": [
    {
     "name": "stdout",
     "output_type": "stream",
     "text": [
      "CPU times: user 5 µs, sys: 1e+03 ns, total: 6 µs\n",
      "Wall time: 21 µs\n"
     ]
    }
   ],
   "source": [
    "%time\n",
    "def bubble_sort(lis):\n",
    "    n = len(lis)\n",
    "    for i in range(n):\n",
    "        for j in range(0,n-i-1):\n",
    "            if(lis[j]>lis[j+1]):\n",
    "                lis[j],lis[j+1]=lis[j+1],lis[j]\n",
    "        print(lis)\n",
    "    return lis                "
   ]
  },
  {
   "cell_type": "code",
   "execution_count": 30,
   "metadata": {},
   "outputs": [
    {
     "name": "stdout",
     "output_type": "stream",
     "text": [
      "CPU times: user 5 µs, sys: 1e+03 ns, total: 6 µs\n",
      "Wall time: 11.9 µs\n",
      "[5, 6, 7, 1, 2, 8]\n",
      "[5, 6, 1, 2, 7, 8]\n",
      "[5, 1, 2, 6, 7, 8]\n",
      "[1, 2, 5, 6, 7, 8]\n",
      "[1, 2, 5, 6, 7, 8]\n",
      "[1, 2, 5, 6, 7, 8]\n",
      "The sorted list is [1, 2, 5, 6, 7, 8]\n"
     ]
    }
   ],
   "source": [
    "%time\n",
    "lis = [5,6,7,8,1,2]\n",
    "sorted_list = bubble_sort(lis)\n",
    "print(\"The sorted list is {}\".format(sorted_list))"
   ]
  },
  {
   "cell_type": "markdown",
   "metadata": {},
   "source": [
    "## Merge sort"
   ]
  },
  {
   "cell_type": "code",
   "execution_count": 46,
   "metadata": {},
   "outputs": [
    {
     "name": "stdout",
     "output_type": "stream",
     "text": [
      "CPU times: user 5 µs, sys: 0 ns, total: 5 µs\n",
      "Wall time: 11.2 µs\n"
     ]
    }
   ],
   "source": [
    "#Merging two sublist\n",
    "%time\n",
    "def merge(left,right):\n",
    "    result = []\n",
    "    i,j = 0,0\n",
    "    while(i<len(left) and j<len(right)):\n",
    "        if(left[i]<right[i]):\n",
    "            result.append(left[i])\n",
    "            i += 1\n",
    "        else:\n",
    "            result.append(right[j])\n",
    "            j += 1\n",
    "            \n",
    "    while(i<len(left)):\n",
    "        result.append(left[i])\n",
    "        i+=1\n",
    "    while(j<len(right)):\n",
    "        result.append(right[j])\n",
    "        j+=1\n",
    "    print('merge: ' + str(left) + '&' + str(right) + ' to ' +str(result))\n",
    "    return result\n",
    "def merge_sort(L):\n",
    "    #print('merge sort: ' + str(L))\n",
    "    if len(L) < 2:\n",
    "        return L[:]\n",
    "    else:\n",
    "        middle = len(L)//2\n",
    "        left = merge_sort(L[:middle])\n",
    "        right = merge_sort(L[middle:])\n",
    "        return merge(left, right)\n",
    "\n"
   ]
  },
  {
   "cell_type": "code",
   "execution_count": 47,
   "metadata": {},
   "outputs": [
    {
     "name": "stdout",
     "output_type": "stream",
     "text": [
      "CPU times: user 5 µs, sys: 1 µs, total: 6 µs\n",
      "Wall time: 10 µs\n",
      "merge: [6]&[7] to [6, 7]\n",
      "merge: [5]&[6, 7] to [5, 6, 7]\n",
      "merge: [1]&[2] to [1, 2]\n",
      "merge: [8]&[1, 2] to [1, 2, 8]\n",
      "merge: [5, 6, 7]&[1, 2, 8] to [1, 2, 8, 5, 6, 7]\n",
      "The sorted list is [1, 2, 8, 5, 6, 7]\n"
     ]
    }
   ],
   "source": [
    "%time\n",
    "lis = [5,6,7,8,1,2]\n",
    "sorted_list = merge_sort(lis)\n",
    "print(\"The sorted list is {}\".format(sorted_list))"
   ]
  },
  {
   "cell_type": "code",
   "execution_count": 48,
   "metadata": {},
   "outputs": [],
   "source": [
    "def merge_sort(lis):\n",
    "    if(len(lis)<2):\n",
    "        return lis[:]\n",
    "    else:\n",
    "        middle = len(lis)//2\n",
    "        left = merge_sort(lis[:middle])\n",
    "        right = merge_sort(lis[middle:])\n",
    "        return merge(left,right)\n",
    "def merge(left,right):\n",
    "    result = []\n",
    "    i,j=0,0\n",
    "    while(i<len(left) and j<len(right)):\n",
    "        if(left[i]<right[i]):\n",
    "            result.append(left[i])\n",
    "            i += 1\n",
    "        else:\n",
    "            result.append(right[j])\n",
    "            j += 1\n",
    "    while(i<len(left)):\n",
    "        result.append(left[i])\n",
    "        i += 1\n",
    "    while(j<len(right)):\n",
    "        result.append(right[j])\n",
    "        j += 1\n",
    "    print('merge: ' + str(left) + '&' + str(right) + ' to ' +str(result))\n",
    "    return result"
   ]
  },
  {
   "cell_type": "code",
   "execution_count": 49,
   "metadata": {},
   "outputs": [
    {
     "name": "stdout",
     "output_type": "stream",
     "text": [
      "CPU times: user 4 µs, sys: 1 µs, total: 5 µs\n",
      "Wall time: 11 µs\n",
      "merge: [6]&[7] to [6, 7]\n",
      "merge: [5]&[6, 7] to [5, 6, 7]\n",
      "merge: [1]&[2] to [1, 2]\n",
      "merge: [8]&[1, 2] to [1, 2, 8]\n",
      "merge: [5, 6, 7]&[1, 2, 8] to [1, 2, 8, 5, 6, 7]\n",
      "The sorted list is [1, 2, 8, 5, 6, 7]\n"
     ]
    }
   ],
   "source": [
    "%time\n",
    "lis = [5,6,7,8,1,2]\n",
    "sorted_list = merge_sort(lis)\n",
    "print(\"The sorted list is {}\".format(sorted_list))"
   ]
  },
  {
   "cell_type": "code",
   "execution_count": 62,
   "metadata": {},
   "outputs": [],
   "source": [
    "#Insertion sort\n",
    "def insertion_sort(lis):\n",
    "    for j in range(1,len(lis)):\n",
    "        key = lis[j]\n",
    "        i = j-1\n",
    "        while(i>=0 and lis[i]>key):\n",
    "            lis[i+1]= lis[i]\n",
    "            i -= 1\n",
    "        lis[i+1]=key\n"
   ]
  },
  {
   "cell_type": "code",
   "execution_count": 64,
   "metadata": {},
   "outputs": [
    {
     "name": "stdout",
     "output_type": "stream",
     "text": [
      "CPU times: user 4 µs, sys: 1e+03 ns, total: 5 µs\n",
      "Wall time: 11 µs\n",
      "The sorted list is [1, 2, 5, 6, 7, 8]\n"
     ]
    }
   ],
   "source": [
    "%time\n",
    "lis = [5,6,7,8,1,2]\n",
    "insertion_sort(lis)\n",
    "print(\"The sorted list is {}\".format(lis))"
   ]
  },
  {
   "cell_type": "code",
   "execution_count": 74,
   "metadata": {},
   "outputs": [],
   "source": [
    "#quicksort \n",
    "\n",
    "def quicksort(lis,low,high):\n",
    "    if(low<high):\n",
    "        p= partition(lis,low,high)\n",
    "        \n",
    "        quicksort(lis,low,p-1)\n",
    "        quicksort(lis,p+1,high)\n",
    "def partition(lis,low,high):\n",
    "    i=(low-1)\n",
    "    pivot=lis[high]\n",
    "    for j in range(low,high):\n",
    "        if(lis[j]<=pivot):\n",
    "            i=i+1\n",
    "            lis[i],lis[j]= lis[j],lis[i]\n",
    "    lis[i+1],lis[high]=lis[high],lis[i+1]\n",
    "    return i+1"
   ]
  },
  {
   "cell_type": "code",
   "execution_count": 73,
   "metadata": {},
   "outputs": [
    {
     "name": "stdout",
     "output_type": "stream",
     "text": [
      "quick sort: [1, 5, 8, 9, 10, 7]\n",
      "quick sort: [1, 5, 7, 9, 10, 8]\n",
      "quick sort: [1, 5, 7, 8, 10, 9]\n",
      "quick sort: [1, 5, 7, 8, 9, 10]\n",
      "The sorted list is [1, 5, 7, 8, 9, 10]\n"
     ]
    }
   ],
   "source": [
    "arr = [10, 7, 8, 9, 1, 5] \n",
    "n = len(arr) \n",
    "quicksort(arr,0,n-1) \n",
    "print(\"The sorted list is {}\".format(arr))"
   ]
  }
 ],
 "metadata": {
  "kernelspec": {
   "display_name": "Python 3",
   "language": "python",
   "name": "python3"
  },
  "language_info": {
   "codemirror_mode": {
    "name": "ipython",
    "version": 3
   },
   "file_extension": ".py",
   "mimetype": "text/x-python",
   "name": "python",
   "nbconvert_exporter": "python",
   "pygments_lexer": "ipython3",
   "version": "3.7.1"
  }
 },
 "nbformat": 4,
 "nbformat_minor": 2
}
