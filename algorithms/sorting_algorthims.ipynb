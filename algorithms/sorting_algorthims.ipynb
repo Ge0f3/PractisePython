{
 "cells": [
  {
   "cell_type": "markdown",
   "metadata": {},
   "source": [
    "# Sorting Algorithms"
   ]
  },
  {
   "cell_type": "markdown",
   "metadata": {},
   "source": [
    "## Bubble sort "
   ]
  },
  {
   "cell_type": "code",
   "execution_count": 29,
   "metadata": {},
   "outputs": [
    {
     "name": "stdout",
     "output_type": "stream",
     "text": [
      "CPU times: user 5 µs, sys: 1e+03 ns, total: 6 µs\n",
      "Wall time: 21 µs\n"
     ]
    }
   ],
   "source": [
    "%time\n",
    "def bubble_sort(lis):\n",
    "    n = len(lis)\n",
    "    for i in range(n):\n",
    "        for j in range(0,n-i-1):\n",
    "            if(lis[j]>lis[j+1]):\n",
    "                lis[j],lis[j+1]=lis[j+1],lis[j]\n",
    "        print(lis)\n",
    "    return lis                "
   ]
  },
  {
   "cell_type": "code",
   "execution_count": 30,
   "metadata": {},
   "outputs": [
    {
     "name": "stdout",
     "output_type": "stream",
     "text": [
      "CPU times: user 5 µs, sys: 1e+03 ns, total: 6 µs\n",
      "Wall time: 11.9 µs\n",
      "[5, 6, 7, 1, 2, 8]\n",
      "[5, 6, 1, 2, 7, 8]\n",
      "[5, 1, 2, 6, 7, 8]\n",
      "[1, 2, 5, 6, 7, 8]\n",
      "[1, 2, 5, 6, 7, 8]\n",
      "[1, 2, 5, 6, 7, 8]\n",
      "The sorted list is [1, 2, 5, 6, 7, 8]\n"
     ]
    }
   ],
   "source": [
    "%time\n",
    "lis = [5,6,7,8,1,2]\n",
    "sorted_list = bubble_sort(lis)\n",
    "print(\"The sorted list is {}\".format(sorted_list))"
   ]
  },
  {
   "cell_type": "markdown",
   "metadata": {},
   "source": [
    "## Merge sort"
   ]
  },
  {
   "cell_type": "code",
   "execution_count": 46,
   "metadata": {},
   "outputs": [
    {
     "name": "stdout",
     "output_type": "stream",
     "text": [
      "CPU times: user 5 µs, sys: 0 ns, total: 5 µs\n",
      "Wall time: 11.2 µs\n"
     ]
    }
   ],
   "source": [
    "#Merging two sublist\n",
    "%time\n",
    "def merge(left,right):\n",
    "    result = []\n",
    "    i,j = 0,0\n",
    "    while(i<len(left) and j<len(right)):\n",
    "        if(left[i]<right[i]):\n",
    "            result.append(left[i])\n",
    "            i += 1\n",
    "        else:\n",
    "            result.append(right[j])\n",
    "            j += 1\n",
    "            \n",
    "    while(i<len(left)):\n",
    "        result.append(left[i])\n",
    "        i+=1\n",
    "    while(j<len(right)):\n",
    "        result.append(right[j])\n",
    "        j+=1\n",
    "    print('merge: ' + str(left) + '&' + str(right) + ' to ' +str(result))\n",
    "    return result\n",
    "def merge_sort(L):\n",
    "    #print('merge sort: ' + str(L))\n",
    "    if len(L) < 2:\n",
    "        return L[:]\n",
    "    else:\n",
    "        middle = len(L)//2\n",
    "        left = merge_sort(L[:middle])\n",
    "        right = merge_sort(L[middle:])\n",
    "        return merge(left, right)\n",
    "\n"
   ]
  },
  {
   "cell_type": "code",
   "execution_count": 47,
   "metadata": {},
   "outputs": [
    {
     "name": "stdout",
     "output_type": "stream",
     "text": [
      "CPU times: user 5 µs, sys: 1 µs, total: 6 µs\n",
      "Wall time: 10 µs\n",
      "merge: [6]&[7] to [6, 7]\n",
      "merge: [5]&[6, 7] to [5, 6, 7]\n",
      "merge: [1]&[2] to [1, 2]\n",
      "merge: [8]&[1, 2] to [1, 2, 8]\n",
      "merge: [5, 6, 7]&[1, 2, 8] to [1, 2, 8, 5, 6, 7]\n",
      "The sorted list is [1, 2, 8, 5, 6, 7]\n"
     ]
    }
   ],
   "source": [
    "%time\n",
    "lis = [5,6,7,8,1,2]\n",
    "sorted_list = merge_sort(lis)\n",
    "print(\"The sorted list is {}\".format(sorted_list))"
   ]
  },
  {
   "cell_type": "code",
   "execution_count": 48,
   "metadata": {},
   "outputs": [],
   "source": [
    "def merge_sort(lis):\n",
    "    if(len(lis)<2):\n",
    "        return lis[:]\n",
    "    else:\n",
    "        middle = len(lis)//2\n",
    "        left = merge_sort(lis[:middle])\n",
    "        right = merge_sort(lis[middle:])\n",
    "        return merge(left,right)\n",
    "def merge(left,right):\n",
    "    result = []\n",
    "    i,j=0,0\n",
    "    while(i<len(left) and j<len(right)):\n",
    "        if(left[i]<right[i]):\n",
    "            result.append(left[i])\n",
    "            i += 1\n",
    "        else:\n",
    "            result.append(right[j])\n",
    "            j += 1\n",
    "    while(i<len(left)):\n",
    "        result.append(left[i])\n",
    "        i += 1\n",
    "    while(j<len(right)):\n",
    "        result.append(right[j])\n",
    "        j += 1\n",
    "    print('merge: ' + str(left) + '&' + str(right) + ' to ' +str(result))\n",
    "    return result"
   ]
  },
  {
   "cell_type": "code",
   "execution_count": 49,
   "metadata": {},
   "outputs": [
    {
     "name": "stdout",
     "output_type": "stream",
     "text": [
      "CPU times: user 4 µs, sys: 1 µs, total: 5 µs\n",
      "Wall time: 11 µs\n",
      "merge: [6]&[7] to [6, 7]\n",
      "merge: [5]&[6, 7] to [5, 6, 7]\n",
      "merge: [1]&[2] to [1, 2]\n",
      "merge: [8]&[1, 2] to [1, 2, 8]\n",
      "merge: [5, 6, 7]&[1, 2, 8] to [1, 2, 8, 5, 6, 7]\n",
      "The sorted list is [1, 2, 8, 5, 6, 7]\n"
     ]
    }
   ],
   "source": [
    "%time\n",
    "lis = [5,6,7,8,1,2]\n",
    "sorted_list = merge_sort(lis)\n",
    "print(\"The sorted list is {}\".format(sorted_list))"
   ]
  },
  {
   "cell_type": "code",
   "execution_count": 62,
   "metadata": {},
   "outputs": [],
   "source": [
    "#Insertion sort\n",
    "def insertion_sort(lis):\n",
    "    for j in range(1,len(lis)):\n",
    "        key = lis[j]\n",
    "        i = j-1\n",
    "        while(i>=0 and lis[i]>key):\n",
    "            lis[i+1]= lis[i]\n",
    "            i -= 1\n",
    "        lis[i+1]=key\n"
   ]
  },
  {
   "cell_type": "code",
   "execution_count": 64,
   "metadata": {},
   "outputs": [
    {
     "name": "stdout",
     "output_type": "stream",
     "text": [
      "CPU times: user 4 µs, sys: 1e+03 ns, total: 5 µs\n",
      "Wall time: 11 µs\n",
      "The sorted list is [1, 2, 5, 6, 7, 8]\n"
     ]
    }
   ],
   "source": [
    "%time\n",
    "lis = [5,6,7,8,1,2]\n",
    "insertion_sort(lis)\n",
    "print(\"The sorted list is {}\".format(lis))"
   ]
  },
  {
   "cell_type": "code",
   "execution_count": 74,
   "metadata": {},
   "outputs": [],
   "source": [
    "#quicksort \n",
    "\n",
    "def quicksort(lis,low,high):\n",
    "    if(low<high):\n",
    "        p= partition(lis,low,high)\n",
    "        \n",
    "        quicksort(lis,low,p-1)\n",
    "        quicksort(lis,p+1,high)\n",
    "def partition(lis,low,high):\n",
    "    i=(low-1)\n",
    "    pivot=lis[high]\n",
    "    for j in range(low,high):\n",
    "        if(lis[j]<=pivot):\n",
    "            i=i+1\n",
    "            lis[i],lis[j]= lis[j],lis[i]\n",
    "    lis[i+1],lis[high]=lis[high],lis[i+1]\n",
    "    return i+1"
   ]
  },
  {
   "cell_type": "code",
   "execution_count": 1,
   "metadata": {},
   "outputs": [
    {
     "ename": "NameError",
     "evalue": "name 'quicksort' is not defined",
     "output_type": "error",
     "traceback": [
      "\u001b[0;31m---------------------------------------------------------------------------\u001b[0m",
      "\u001b[0;31mNameError\u001b[0m                                 Traceback (most recent call last)",
      "\u001b[0;32m<ipython-input-1-2672c3f2b194>\u001b[0m in \u001b[0;36m<module>\u001b[0;34m\u001b[0m\n\u001b[1;32m      1\u001b[0m \u001b[0marr\u001b[0m \u001b[0;34m=\u001b[0m \u001b[0;34m[\u001b[0m\u001b[0;36m10\u001b[0m\u001b[0;34m,\u001b[0m \u001b[0;36m7\u001b[0m\u001b[0;34m,\u001b[0m \u001b[0;36m8\u001b[0m\u001b[0;34m,\u001b[0m \u001b[0;36m9\u001b[0m\u001b[0;34m,\u001b[0m \u001b[0;36m1\u001b[0m\u001b[0;34m,\u001b[0m \u001b[0;36m5\u001b[0m\u001b[0;34m]\u001b[0m\u001b[0;34m\u001b[0m\u001b[0;34m\u001b[0m\u001b[0m\n\u001b[1;32m      2\u001b[0m \u001b[0mn\u001b[0m \u001b[0;34m=\u001b[0m \u001b[0mlen\u001b[0m\u001b[0;34m(\u001b[0m\u001b[0marr\u001b[0m\u001b[0;34m)\u001b[0m\u001b[0;34m\u001b[0m\u001b[0;34m\u001b[0m\u001b[0m\n\u001b[0;32m----> 3\u001b[0;31m \u001b[0mquicksort\u001b[0m\u001b[0;34m(\u001b[0m\u001b[0marr\u001b[0m\u001b[0;34m,\u001b[0m\u001b[0;36m0\u001b[0m\u001b[0;34m,\u001b[0m\u001b[0mn\u001b[0m\u001b[0;34m-\u001b[0m\u001b[0;36m1\u001b[0m\u001b[0;34m)\u001b[0m\u001b[0;34m\u001b[0m\u001b[0;34m\u001b[0m\u001b[0m\n\u001b[0m\u001b[1;32m      4\u001b[0m \u001b[0mprint\u001b[0m\u001b[0;34m(\u001b[0m\u001b[0;34m\"The sorted list is {}\"\u001b[0m\u001b[0;34m.\u001b[0m\u001b[0mformat\u001b[0m\u001b[0;34m(\u001b[0m\u001b[0marr\u001b[0m\u001b[0;34m)\u001b[0m\u001b[0;34m)\u001b[0m\u001b[0;34m\u001b[0m\u001b[0;34m\u001b[0m\u001b[0m\n",
      "\u001b[0;31mNameError\u001b[0m: name 'quicksort' is not defined"
     ]
    }
   ],
   "source": [
    "arr = [10, 7, 8, 9, 1, 5] \n",
    "n = len(arr) \n",
    "quicksort(arr,0,n-1) \n",
    "print(\"The sorted list is {}\".format(arr))"
   ]
  },
  {
   "cell_type": "code",
   "execution_count": 35,
   "metadata": {},
   "outputs": [],
   "source": [
    "def solution(L):\n",
    "    email_count = dict()\n",
    "    local_names = list()\n",
    "    for email_address in L:\n",
    "        local_name,domain_name = email_address.split('@')\n",
    "        local_names.append(local_name)\n",
    "    for local_name in local_names:\n",
    "        if('+' in local_name):\n",
    "            temp = local_name.split('+')\n",
    "            email_count[temp[0]]=email_count.get(temp[0],0)+1\n",
    "        elif('.' in local_name):\n",
    "            local_name=local_name.replace('.','')\n",
    "            email_count[local_name]=email_count.get(local_name,0)+1\n",
    "        else:\n",
    "            email_count[local_name]=email_count.get(local_name,0)+1\n",
    "    max_localname = max(email_count,key=email_count.get)\n",
    "    return email_count[max_localname]\n",
    "\n"
   ]
  },
  {
   "cell_type": "code",
   "execution_count": 47,
   "metadata": {},
   "outputs": [
    {
     "ename": "SyntaxError",
     "evalue": "invalid syntax (<ipython-input-47-b6d5ed8a032e>, line 14)",
     "output_type": "error",
     "traceback": [
      "\u001b[0;36m  File \u001b[0;32m\"<ipython-input-47-b6d5ed8a032e>\"\u001b[0;36m, line \u001b[0;32m14\u001b[0m\n\u001b[0;31m    emails =:\u001b[0m\n\u001b[0m            ^\u001b[0m\n\u001b[0;31mSyntaxError\u001b[0m\u001b[0;31m:\u001b[0m invalid syntax\n"
     ]
    }
   ],
   "source": [
    "# you can write to stdout for debugging purposes, e.g.\n",
    "# print(\"this is a debug message\")\n",
    "\n",
    "def solution(L):\n",
    "    # write your code in Python 3.6\n",
    "#     email_address_count = set()\n",
    "#     for email_address in L:\n",
    "#         local_name,domain_name=email_address.split('@')\n",
    "#         local_name = local_name.split(\"+\")\n",
    "#         local_name = local_name[0].replace(\".\", \"\")\n",
    "#         email = local_name + \"@\" + domain_name\n",
    "#         email_address_count.add(email)\n",
    "#     return len(email_address_count)\n",
    "    emails =:\n",
    "    actual = set()\n",
    "    for email in  emails:\n",
    "        x = email.split(\"@\")\n",
    "        y = x[0].split(\"+\")\n",
    "        z = y[0].replace(\".\", \"\")\n",
    "        x = z + \"@\" + x[1]\n",
    "        actual.add(x)\n",
    "    return len(actual)\n",
    "\n"
   ]
  },
  {
   "cell_type": "code",
   "execution_count": 49,
   "metadata": {},
   "outputs": [],
   "source": [
    "# you can write to stdout for debugging purposes, e.g.\n",
    "# print(\"this is a debug message\")\n",
    "\n",
    "def solution(L):\n",
    "    # write your code in Python 3.6\n",
    "    if(len(L)>0):\n",
    "        email_address_count = dict()\n",
    "        for email_address in L:\n",
    "            local_name,domain_name=email_address.split('@')\n",
    "            local_name = local_name.split(\"+\")\n",
    "            local_name = local_name[0].replace(\".\", \"\")\n",
    "            email = local_name + \"@\" + domain_name\n",
    "            email_address_count[email]=email_address_count.get(email,0)+1\n",
    "        max_localname = max(email_address_count,key=email_address_count.get)\n",
    "        return email_address_count[max_localname]\n",
    "    else:\n",
    "        return 0\n",
    "        \n",
    "    "
   ]
  },
  {
   "cell_type": "code",
   "execution_count": 51,
   "metadata": {},
   "outputs": [],
   "source": [
    "lis  = []\n",
    "for i in range(255):\n",
    "    lis.append('geoffrey.geofe@gmail.com')"
   ]
  },
  {
   "cell_type": "code",
   "execution_count": 52,
   "metadata": {},
   "outputs": [
    {
     "data": {
      "text/plain": [
       "['geoffrey.geofe@gmail.com',\n",
       " 'geoffrey.geofe@gmail.com',\n",
       " 'geoffrey.geofe@gmail.com',\n",
       " 'geoffrey.geofe@gmail.com',\n",
       " 'geoffrey.geofe@gmail.com',\n",
       " 'geoffrey.geofe@gmail.com',\n",
       " 'geoffrey.geofe@gmail.com',\n",
       " 'geoffrey.geofe@gmail.com',\n",
       " 'geoffrey.geofe@gmail.com',\n",
       " 'geoffrey.geofe@gmail.com',\n",
       " 'geoffrey.geofe@gmail.com',\n",
       " 'geoffrey.geofe@gmail.com',\n",
       " 'geoffrey.geofe@gmail.com',\n",
       " 'geoffrey.geofe@gmail.com',\n",
       " 'geoffrey.geofe@gmail.com',\n",
       " 'geoffrey.geofe@gmail.com',\n",
       " 'geoffrey.geofe@gmail.com',\n",
       " 'geoffrey.geofe@gmail.com',\n",
       " 'geoffrey.geofe@gmail.com',\n",
       " 'geoffrey.geofe@gmail.com',\n",
       " 'geoffrey.geofe@gmail.com',\n",
       " 'geoffrey.geofe@gmail.com',\n",
       " 'geoffrey.geofe@gmail.com',\n",
       " 'geoffrey.geofe@gmail.com',\n",
       " 'geoffrey.geofe@gmail.com',\n",
       " 'geoffrey.geofe@gmail.com',\n",
       " 'geoffrey.geofe@gmail.com',\n",
       " 'geoffrey.geofe@gmail.com',\n",
       " 'geoffrey.geofe@gmail.com',\n",
       " 'geoffrey.geofe@gmail.com',\n",
       " 'geoffrey.geofe@gmail.com',\n",
       " 'geoffrey.geofe@gmail.com',\n",
       " 'geoffrey.geofe@gmail.com',\n",
       " 'geoffrey.geofe@gmail.com',\n",
       " 'geoffrey.geofe@gmail.com',\n",
       " 'geoffrey.geofe@gmail.com',\n",
       " 'geoffrey.geofe@gmail.com',\n",
       " 'geoffrey.geofe@gmail.com',\n",
       " 'geoffrey.geofe@gmail.com',\n",
       " 'geoffrey.geofe@gmail.com',\n",
       " 'geoffrey.geofe@gmail.com',\n",
       " 'geoffrey.geofe@gmail.com',\n",
       " 'geoffrey.geofe@gmail.com',\n",
       " 'geoffrey.geofe@gmail.com',\n",
       " 'geoffrey.geofe@gmail.com',\n",
       " 'geoffrey.geofe@gmail.com',\n",
       " 'geoffrey.geofe@gmail.com',\n",
       " 'geoffrey.geofe@gmail.com',\n",
       " 'geoffrey.geofe@gmail.com',\n",
       " 'geoffrey.geofe@gmail.com',\n",
       " 'geoffrey.geofe@gmail.com',\n",
       " 'geoffrey.geofe@gmail.com',\n",
       " 'geoffrey.geofe@gmail.com',\n",
       " 'geoffrey.geofe@gmail.com',\n",
       " 'geoffrey.geofe@gmail.com',\n",
       " 'geoffrey.geofe@gmail.com',\n",
       " 'geoffrey.geofe@gmail.com',\n",
       " 'geoffrey.geofe@gmail.com',\n",
       " 'geoffrey.geofe@gmail.com',\n",
       " 'geoffrey.geofe@gmail.com',\n",
       " 'geoffrey.geofe@gmail.com',\n",
       " 'geoffrey.geofe@gmail.com',\n",
       " 'geoffrey.geofe@gmail.com',\n",
       " 'geoffrey.geofe@gmail.com',\n",
       " 'geoffrey.geofe@gmail.com',\n",
       " 'geoffrey.geofe@gmail.com',\n",
       " 'geoffrey.geofe@gmail.com',\n",
       " 'geoffrey.geofe@gmail.com',\n",
       " 'geoffrey.geofe@gmail.com',\n",
       " 'geoffrey.geofe@gmail.com',\n",
       " 'geoffrey.geofe@gmail.com',\n",
       " 'geoffrey.geofe@gmail.com',\n",
       " 'geoffrey.geofe@gmail.com',\n",
       " 'geoffrey.geofe@gmail.com',\n",
       " 'geoffrey.geofe@gmail.com',\n",
       " 'geoffrey.geofe@gmail.com',\n",
       " 'geoffrey.geofe@gmail.com',\n",
       " 'geoffrey.geofe@gmail.com',\n",
       " 'geoffrey.geofe@gmail.com',\n",
       " 'geoffrey.geofe@gmail.com',\n",
       " 'geoffrey.geofe@gmail.com',\n",
       " 'geoffrey.geofe@gmail.com',\n",
       " 'geoffrey.geofe@gmail.com',\n",
       " 'geoffrey.geofe@gmail.com',\n",
       " 'geoffrey.geofe@gmail.com',\n",
       " 'geoffrey.geofe@gmail.com',\n",
       " 'geoffrey.geofe@gmail.com',\n",
       " 'geoffrey.geofe@gmail.com',\n",
       " 'geoffrey.geofe@gmail.com',\n",
       " 'geoffrey.geofe@gmail.com',\n",
       " 'geoffrey.geofe@gmail.com',\n",
       " 'geoffrey.geofe@gmail.com',\n",
       " 'geoffrey.geofe@gmail.com',\n",
       " 'geoffrey.geofe@gmail.com',\n",
       " 'geoffrey.geofe@gmail.com',\n",
       " 'geoffrey.geofe@gmail.com',\n",
       " 'geoffrey.geofe@gmail.com',\n",
       " 'geoffrey.geofe@gmail.com',\n",
       " 'geoffrey.geofe@gmail.com',\n",
       " 'geoffrey.geofe@gmail.com',\n",
       " 'geoffrey.geofe@gmail.com',\n",
       " 'geoffrey.geofe@gmail.com',\n",
       " 'geoffrey.geofe@gmail.com',\n",
       " 'geoffrey.geofe@gmail.com',\n",
       " 'geoffrey.geofe@gmail.com',\n",
       " 'geoffrey.geofe@gmail.com',\n",
       " 'geoffrey.geofe@gmail.com',\n",
       " 'geoffrey.geofe@gmail.com',\n",
       " 'geoffrey.geofe@gmail.com',\n",
       " 'geoffrey.geofe@gmail.com',\n",
       " 'geoffrey.geofe@gmail.com',\n",
       " 'geoffrey.geofe@gmail.com',\n",
       " 'geoffrey.geofe@gmail.com',\n",
       " 'geoffrey.geofe@gmail.com',\n",
       " 'geoffrey.geofe@gmail.com',\n",
       " 'geoffrey.geofe@gmail.com',\n",
       " 'geoffrey.geofe@gmail.com',\n",
       " 'geoffrey.geofe@gmail.com',\n",
       " 'geoffrey.geofe@gmail.com',\n",
       " 'geoffrey.geofe@gmail.com',\n",
       " 'geoffrey.geofe@gmail.com',\n",
       " 'geoffrey.geofe@gmail.com',\n",
       " 'geoffrey.geofe@gmail.com',\n",
       " 'geoffrey.geofe@gmail.com',\n",
       " 'geoffrey.geofe@gmail.com',\n",
       " 'geoffrey.geofe@gmail.com',\n",
       " 'geoffrey.geofe@gmail.com',\n",
       " 'geoffrey.geofe@gmail.com',\n",
       " 'geoffrey.geofe@gmail.com',\n",
       " 'geoffrey.geofe@gmail.com',\n",
       " 'geoffrey.geofe@gmail.com',\n",
       " 'geoffrey.geofe@gmail.com',\n",
       " 'geoffrey.geofe@gmail.com',\n",
       " 'geoffrey.geofe@gmail.com',\n",
       " 'geoffrey.geofe@gmail.com',\n",
       " 'geoffrey.geofe@gmail.com',\n",
       " 'geoffrey.geofe@gmail.com',\n",
       " 'geoffrey.geofe@gmail.com',\n",
       " 'geoffrey.geofe@gmail.com',\n",
       " 'geoffrey.geofe@gmail.com',\n",
       " 'geoffrey.geofe@gmail.com',\n",
       " 'geoffrey.geofe@gmail.com',\n",
       " 'geoffrey.geofe@gmail.com',\n",
       " 'geoffrey.geofe@gmail.com',\n",
       " 'geoffrey.geofe@gmail.com',\n",
       " 'geoffrey.geofe@gmail.com',\n",
       " 'geoffrey.geofe@gmail.com',\n",
       " 'geoffrey.geofe@gmail.com',\n",
       " 'geoffrey.geofe@gmail.com',\n",
       " 'geoffrey.geofe@gmail.com',\n",
       " 'geoffrey.geofe@gmail.com',\n",
       " 'geoffrey.geofe@gmail.com',\n",
       " 'geoffrey.geofe@gmail.com',\n",
       " 'geoffrey.geofe@gmail.com',\n",
       " 'geoffrey.geofe@gmail.com',\n",
       " 'geoffrey.geofe@gmail.com',\n",
       " 'geoffrey.geofe@gmail.com',\n",
       " 'geoffrey.geofe@gmail.com',\n",
       " 'geoffrey.geofe@gmail.com',\n",
       " 'geoffrey.geofe@gmail.com',\n",
       " 'geoffrey.geofe@gmail.com',\n",
       " 'geoffrey.geofe@gmail.com',\n",
       " 'geoffrey.geofe@gmail.com',\n",
       " 'geoffrey.geofe@gmail.com',\n",
       " 'geoffrey.geofe@gmail.com',\n",
       " 'geoffrey.geofe@gmail.com',\n",
       " 'geoffrey.geofe@gmail.com',\n",
       " 'geoffrey.geofe@gmail.com',\n",
       " 'geoffrey.geofe@gmail.com',\n",
       " 'geoffrey.geofe@gmail.com',\n",
       " 'geoffrey.geofe@gmail.com',\n",
       " 'geoffrey.geofe@gmail.com',\n",
       " 'geoffrey.geofe@gmail.com',\n",
       " 'geoffrey.geofe@gmail.com',\n",
       " 'geoffrey.geofe@gmail.com',\n",
       " 'geoffrey.geofe@gmail.com',\n",
       " 'geoffrey.geofe@gmail.com',\n",
       " 'geoffrey.geofe@gmail.com',\n",
       " 'geoffrey.geofe@gmail.com',\n",
       " 'geoffrey.geofe@gmail.com',\n",
       " 'geoffrey.geofe@gmail.com',\n",
       " 'geoffrey.geofe@gmail.com',\n",
       " 'geoffrey.geofe@gmail.com',\n",
       " 'geoffrey.geofe@gmail.com',\n",
       " 'geoffrey.geofe@gmail.com',\n",
       " 'geoffrey.geofe@gmail.com',\n",
       " 'geoffrey.geofe@gmail.com',\n",
       " 'geoffrey.geofe@gmail.com',\n",
       " 'geoffrey.geofe@gmail.com',\n",
       " 'geoffrey.geofe@gmail.com',\n",
       " 'geoffrey.geofe@gmail.com',\n",
       " 'geoffrey.geofe@gmail.com',\n",
       " 'geoffrey.geofe@gmail.com',\n",
       " 'geoffrey.geofe@gmail.com',\n",
       " 'geoffrey.geofe@gmail.com',\n",
       " 'geoffrey.geofe@gmail.com',\n",
       " 'geoffrey.geofe@gmail.com',\n",
       " 'geoffrey.geofe@gmail.com',\n",
       " 'geoffrey.geofe@gmail.com',\n",
       " 'geoffrey.geofe@gmail.com',\n",
       " 'geoffrey.geofe@gmail.com',\n",
       " 'geoffrey.geofe@gmail.com',\n",
       " 'geoffrey.geofe@gmail.com',\n",
       " 'geoffrey.geofe@gmail.com',\n",
       " 'geoffrey.geofe@gmail.com',\n",
       " 'geoffrey.geofe@gmail.com',\n",
       " 'geoffrey.geofe@gmail.com',\n",
       " 'geoffrey.geofe@gmail.com',\n",
       " 'geoffrey.geofe@gmail.com',\n",
       " 'geoffrey.geofe@gmail.com',\n",
       " 'geoffrey.geofe@gmail.com',\n",
       " 'geoffrey.geofe@gmail.com',\n",
       " 'geoffrey.geofe@gmail.com',\n",
       " 'geoffrey.geofe@gmail.com',\n",
       " 'geoffrey.geofe@gmail.com',\n",
       " 'geoffrey.geofe@gmail.com',\n",
       " 'geoffrey.geofe@gmail.com',\n",
       " 'geoffrey.geofe@gmail.com',\n",
       " 'geoffrey.geofe@gmail.com',\n",
       " 'geoffrey.geofe@gmail.com',\n",
       " 'geoffrey.geofe@gmail.com',\n",
       " 'geoffrey.geofe@gmail.com',\n",
       " 'geoffrey.geofe@gmail.com',\n",
       " 'geoffrey.geofe@gmail.com',\n",
       " 'geoffrey.geofe@gmail.com',\n",
       " 'geoffrey.geofe@gmail.com',\n",
       " 'geoffrey.geofe@gmail.com',\n",
       " 'geoffrey.geofe@gmail.com',\n",
       " 'geoffrey.geofe@gmail.com',\n",
       " 'geoffrey.geofe@gmail.com',\n",
       " 'geoffrey.geofe@gmail.com',\n",
       " 'geoffrey.geofe@gmail.com',\n",
       " 'geoffrey.geofe@gmail.com',\n",
       " 'geoffrey.geofe@gmail.com',\n",
       " 'geoffrey.geofe@gmail.com',\n",
       " 'geoffrey.geofe@gmail.com',\n",
       " 'geoffrey.geofe@gmail.com',\n",
       " 'geoffrey.geofe@gmail.com',\n",
       " 'geoffrey.geofe@gmail.com',\n",
       " 'geoffrey.geofe@gmail.com',\n",
       " 'geoffrey.geofe@gmail.com',\n",
       " 'geoffrey.geofe@gmail.com',\n",
       " 'geoffrey.geofe@gmail.com',\n",
       " 'geoffrey.geofe@gmail.com',\n",
       " 'geoffrey.geofe@gmail.com',\n",
       " 'geoffrey.geofe@gmail.com',\n",
       " 'geoffrey.geofe@gmail.com',\n",
       " 'geoffrey.geofe@gmail.com',\n",
       " 'geoffrey.geofe@gmail.com',\n",
       " 'geoffrey.geofe@gmail.com',\n",
       " 'geoffrey.geofe@gmail.com',\n",
       " 'geoffrey.geofe@gmail.com',\n",
       " 'geoffrey.geofe@gmail.com',\n",
       " 'geoffrey.geofe@gmail.com',\n",
       " 'geoffrey.geofe@gmail.com']"
      ]
     },
     "execution_count": 52,
     "metadata": {},
     "output_type": "execute_result"
    }
   ],
   "source": [
    "lis"
   ]
  },
  {
   "cell_type": "code",
   "execution_count": null,
   "metadata": {},
   "outputs": [],
   "source": []
  },
  {
   "cell_type": "code",
   "execution_count": 50,
   "metadata": {},
   "outputs": [
    {
     "data": {
      "text/plain": [
       "3"
      ]
     },
     "execution_count": 50,
     "metadata": {},
     "output_type": "execute_result"
    }
   ],
   "source": [
    "L =['unique@example.com', 'uni.que@example.com', 'unique+test@example.com', 'unique@anotherexample.com'] \n",
    "solution(L)"
   ]
  }
 ],
 "metadata": {
  "kernelspec": {
   "display_name": "Python 3",
   "language": "python",
   "name": "python3"
  },
  "language_info": {
   "codemirror_mode": {
    "name": "ipython",
    "version": 3
   },
   "file_extension": ".py",
   "mimetype": "text/x-python",
   "name": "python",
   "nbconvert_exporter": "python",
   "pygments_lexer": "ipython3",
   "version": "3.6.8"
  }
 },
 "nbformat": 4,
 "nbformat_minor": 2
}
